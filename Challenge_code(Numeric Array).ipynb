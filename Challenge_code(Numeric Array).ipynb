{
 "cells": [
  {
   "cell_type": "code",
   "execution_count": 1,
   "metadata": {},
   "outputs": [],
   "source": [
    "from array import *"
   ]
  },
  {
   "cell_type": "code",
   "execution_count": 2,
   "metadata": {},
   "outputs": [
    {
     "name": "stdout",
     "output_type": "stream",
     "text": [
      "enter the end number: 5\n",
      "enter the number: 12\n",
      "[12]\n",
      "enter the number: 13\n",
      "[13, 12]\n",
      "enter the number: 14\n",
      "[14, 13, 12]\n",
      "enter the number: 15\n",
      "[15, 14, 13, 12]\n",
      "enter the number: 16\n",
      "[16, 15, 14, 13, 12]\n"
     ]
    }
   ],
   "source": [
    "#88\n",
    "num=array('i',[])\n",
    "end=int(input('enter the end number: '))\n",
    "for i in range(0,end):\n",
    "    value=int(input('enter the number: '))\n",
    "    num.append(value)\n",
    "    num=sorted(num)\n",
    "    num.reverse()\n",
    "    print(num)"
   ]
  },
  {
   "cell_type": "code",
   "execution_count": 4,
   "metadata": {},
   "outputs": [
    {
     "name": "stdout",
     "output_type": "stream",
     "text": [
      "2\n",
      "6\n",
      "1\n",
      "7\n",
      "8\n"
     ]
    }
   ],
   "source": [
    "#89\n",
    "import random\n",
    "random_array=array('i',[])\n",
    "for x in range(0,5):\n",
    "    random_array=random.randint(1,8)\n",
    "    print(random_array)"
   ]
  },
  {
   "cell_type": "code",
   "execution_count": 5,
   "metadata": {},
   "outputs": [
    {
     "name": "stdout",
     "output_type": "stream",
     "text": [
      "enter a number: 11\n",
      "enter a number: 12\n",
      "enter a number: 13\n",
      "enter a number: 14\n",
      "enter a number: 15\n",
      "11\n",
      "12\n",
      "13\n",
      "14\n",
      "15\n"
     ]
    }
   ],
   "source": [
    "#90\n",
    "number=array('i',[])\n",
    "correct=0\n",
    "while correct<5:\n",
    "    num=int(input('enter a number: '))\n",
    "    if num>10 and num<20:\n",
    "        number.append(num)\n",
    "        correct+=1\n",
    "    else:\n",
    "        print('outside the range')\n",
    "        \n",
    "    \n",
    "for x in number:\n",
    "    print(x)"
   ]
  },
  {
   "cell_type": "code",
   "execution_count": 6,
   "metadata": {},
   "outputs": [
    {
     "name": "stdout",
     "output_type": "stream",
     "text": [
      "enter a number: 11\n",
      "enter a number: 22\n",
      "outside the range\n",
      "enter a number: 12\n",
      "enter a number: 13\n",
      "enter a number: 44\n",
      "outside the range\n",
      "enter a number: 15\n",
      "enter a number: 16\n",
      "11\n",
      "12\n",
      "13\n",
      "15\n",
      "16\n"
     ]
    }
   ],
   "source": [
    "number=array('i',[])\n",
    "correct=0\n",
    "while correct<5:\n",
    "    num=int(input('enter a number: '))\n",
    "    if num>10 and num<20:\n",
    "        number.append(num)\n",
    "        correct+=1\n",
    "    else:\n",
    "        print('outside the range')\n",
    "        \n",
    "    \n",
    "for x in number:\n",
    "    print(x)"
   ]
  },
  {
   "cell_type": "code",
   "execution_count": 7,
   "metadata": {},
   "outputs": [
    {
     "name": "stdout",
     "output_type": "stream",
     "text": [
      "array('i', [12, 13, 14, 15, 16, 12, 12, 19])\n",
      "enter a number for a array: 12\n",
      "12 is repeated 3\n"
     ]
    }
   ],
   "source": [
    "#91\n",
    "from array import *\n",
    "number=array('i',[12,13,14,15,16,12,12,19])\n",
    "print(number)\n",
    "num=int(input('enter a number for a array: '))\n",
    "print(num,'is repeated',number.count(num))"
   ]
  },
  {
   "cell_type": "code",
   "execution_count": 1,
   "metadata": {},
   "outputs": [
    {
     "name": "stdout",
     "output_type": "stream",
     "text": [
      "12\n",
      "13\n",
      "14\n",
      "20\n",
      "21\n",
      "24\n",
      "29\n",
      "31\n"
     ]
    }
   ],
   "source": [
    "#92\n",
    "import random\n",
    "from array import *\n",
    "int_array=array('i',[12,13,14])\n",
    "ran_array=array('i',[])\n",
    "for i in range(0,5):\n",
    "    n=random.randint(20,31)\n",
    "    ran_array.append(n)\n",
    "int_array.extend(ran_array)\n",
    "sorted_array=sorted(int_array)\n",
    "for x in sorted_array:\n",
    "    print(x)"
   ]
  },
  {
   "cell_type": "code",
   "execution_count": 2,
   "metadata": {},
   "outputs": [
    {
     "name": "stdout",
     "output_type": "stream",
     "text": [
      "[12, 44, 55, 65, 88]\n",
      "enter the number tht u wanna remove: 55\n",
      "None\n"
     ]
    }
   ],
   "source": [
    "#93\n",
    "nums=array('i',[88,55,12,65,44])\n",
    "sort=sorted(nums)\n",
    "print(sort)\n",
    "removal=int(input('enter the number tht u wanna remove: '))\n",
    "n=nums.remove(removal)\n",
    "print(n)"
   ]
  },
  {
   "cell_type": "code",
   "execution_count": 3,
   "metadata": {},
   "outputs": [
    {
     "name": "stdout",
     "output_type": "stream",
     "text": [
      "[12, 44, 55, 65, 88]\n",
      "enter the number tht u wanna remove: 44\n",
      "array('i', [88, 55, 12, 65])\n"
     ]
    }
   ],
   "source": [
    "nums=array('i',[88,55,12,65,44])\n",
    "sort=sorted(nums)\n",
    "print(sort)\n",
    "removal=int(input('enter the number tht u wanna remove: '))\n",
    "nums.remove(removal)\n",
    "print(nums)"
   ]
  },
  {
   "cell_type": "code",
   "execution_count": 4,
   "metadata": {},
   "outputs": [
    {
     "name": "stdout",
     "output_type": "stream",
     "text": [
      "[12, 44, 55, 65, 88]\n",
      "enter the number tht u wanna remove: 65\n",
      "array('i', [88, 55, 12, 44])\n"
     ]
    }
   ],
   "source": [
    "nums=array('i',[88,55,12,65,44])\n",
    "sort=sorted(nums)\n",
    "print(sort)\n",
    "removal=int(input('enter the number tht u wanna remove: '))\n",
    "nums.remove(removal)\n",
    "n=nums\n",
    "print(n)\n"
   ]
  },
  {
   "cell_type": "code",
   "execution_count": 2,
   "metadata": {},
   "outputs": [
    {
     "name": "stdout",
     "output_type": "stream",
     "text": [
      "do u wanna check d index: y\n",
      "enter the number: 96\n",
      "3\n",
      "do u wanna check d index: y\n",
      "enter the number: 20\n",
      "do u wanna check d index: n\n"
     ]
    }
   ],
   "source": [
    "#94\n",
    "from array import *\n",
    "num=array('i',[17,8,19,96,25])\n",
    "check=input('do u wanna check d index: ')\n",
    "while check=='y':\n",
    "    n=int(input('enter the number: '))\n",
    "    if n in num:\n",
    "        print(num.index(n))\n",
    "    check=input('do u wanna check d index: ')"
   ]
  },
  {
   "cell_type": "code",
   "execution_count": 3,
   "metadata": {},
   "outputs": [
    {
     "name": "stdout",
     "output_type": "stream",
     "text": [
      "enter a number btw  2 and 5: 3\n",
      "6.74\n",
      "10.07\n",
      "13.41\n",
      "16.74\n",
      "20.07\n"
     ]
    }
   ],
   "source": [
    "#95\n",
    "from array import *\n",
    "import math\n",
    "nums=array('f',[20.22,30.22,40.22,50.22,60.22])\n",
    "again=True\n",
    "while again==True:\n",
    "    num=int(input('enter a number btw  2 and 5: '))\n",
    "    if num<2 or num>5:\n",
    "        print('incorrect value try again')\n",
    "    else:\n",
    "            again=False\n",
    "for i in range(0,5):\n",
    "    ans=nums[i]/num\n",
    "    print(round(ans,2))"
   ]
  },
  {
   "cell_type": "code",
   "execution_count": 5,
   "metadata": {},
   "outputs": [
    {
     "name": "stdout",
     "output_type": "stream",
     "text": [
      "enter a number btw  2 and 5: 8\n",
      "incorrect value try again\n",
      "enter a number btw  2 and 5: 7\n",
      "incorrect value try again\n",
      "enter a number btw  2 and 5: 9\n",
      "incorrect value try again\n",
      "enter a number btw  2 and 5: 4\n",
      "5.05\n",
      "7.55\n",
      "10.06\n",
      "12.56\n",
      "15.06\n"
     ]
    }
   ],
   "source": [
    "from array import *\n",
    "import math\n",
    "nums=array('f',[20.22,30.22,40.22,50.22,60.22])\n",
    "again=True\n",
    "while again==True:\n",
    "    num=int(input('enter a number btw  2 and 5: '))\n",
    "    if num<2 or num>5:\n",
    "        print('incorrect value try again')\n",
    "    else:\n",
    "            again=False\n",
    "for i in range(0,5):\n",
    "    ans=nums[i]/num\n",
    "    print(round(ans,2))"
   ]
  },
  {
   "cell_type": "code",
   "execution_count": null,
   "metadata": {},
   "outputs": [],
   "source": []
  }
 ],
 "metadata": {
  "kernelspec": {
   "display_name": "Python 3",
   "language": "python",
   "name": "python3"
  },
  "language_info": {
   "codemirror_mode": {
    "name": "ipython",
    "version": 3
   },
   "file_extension": ".py",
   "mimetype": "text/x-python",
   "name": "python",
   "nbconvert_exporter": "python",
   "pygments_lexer": "ipython3",
   "version": "3.7.6"
  }
 },
 "nbformat": 4,
 "nbformat_minor": 4
}
