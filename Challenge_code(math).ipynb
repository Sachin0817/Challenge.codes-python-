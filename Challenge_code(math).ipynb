{
 "cells": [
  {
   "cell_type": "code",
   "execution_count": 1,
   "metadata": {},
   "outputs": [],
   "source": [
    "n=25.8888888"
   ]
  },
  {
   "cell_type": "code",
   "execution_count": 2,
   "metadata": {},
   "outputs": [
    {
     "data": {
      "text/plain": [
       "25.89"
      ]
     },
     "execution_count": 2,
     "metadata": {},
     "output_type": "execute_result"
    }
   ],
   "source": [
    "round(n,2)"
   ]
  },
  {
   "cell_type": "code",
   "execution_count": 3,
   "metadata": {},
   "outputs": [
    {
     "name": "stdout",
     "output_type": "stream",
     "text": [
      "enter the number: 2.666668855445\n",
      "2.666668855445\n"
     ]
    }
   ],
   "source": [
    "#27\n",
    "num=float(input('enter the number: '))\n",
    "num*2\n",
    "print(num)"
   ]
  },
  {
   "cell_type": "code",
   "execution_count": 4,
   "metadata": {},
   "outputs": [
    {
     "name": "stdout",
     "output_type": "stream",
     "text": [
      "enter the number: 2.66666445\n"
     ]
    }
   ],
   "source": [
    "num=float(input('enter the number: '))"
   ]
  },
  {
   "cell_type": "code",
   "execution_count": 5,
   "metadata": {},
   "outputs": [
    {
     "data": {
      "text/plain": [
       "2.66666445"
      ]
     },
     "execution_count": 5,
     "metadata": {},
     "output_type": "execute_result"
    }
   ],
   "source": [
    "num"
   ]
  },
  {
   "cell_type": "code",
   "execution_count": 6,
   "metadata": {},
   "outputs": [
    {
     "data": {
      "text/plain": [
       "5.3333289"
      ]
     },
     "execution_count": 6,
     "metadata": {},
     "output_type": "execute_result"
    }
   ],
   "source": [
    "num*2"
   ]
  },
  {
   "cell_type": "code",
   "execution_count": 7,
   "metadata": {},
   "outputs": [
    {
     "name": "stdout",
     "output_type": "stream",
     "text": [
      "enter the number: 2.6666554\n",
      "5.3333108\n"
     ]
    }
   ],
   "source": [
    "num=float(input('enter the number: '))\n",
    "mul=num*2\n",
    "print(mul)"
   ]
  },
  {
   "cell_type": "code",
   "execution_count": 8,
   "metadata": {},
   "outputs": [
    {
     "name": "stdout",
     "output_type": "stream",
     "text": [
      "enter the number: 2.6666654\n",
      "5.33\n"
     ]
    }
   ],
   "source": [
    "#28\n",
    "num=float(input('enter the number: '))\n",
    "mul=num*2\n",
    "print(round(mul,2))"
   ]
  },
  {
   "cell_type": "code",
   "execution_count": 9,
   "metadata": {},
   "outputs": [
    {
     "name": "stdout",
     "output_type": "stream",
     "text": [
      "enter the number: 503\n",
      "22.43\n"
     ]
    }
   ],
   "source": [
    "#29\n",
    "import math\n",
    "num1=int(input('enter the number: '))\n",
    "root=math.sqrt(num1)\n",
    "print(round(root,2)) "
   ]
  },
  {
   "cell_type": "code",
   "execution_count": 14,
   "metadata": {},
   "outputs": [
    {
     "name": "stdout",
     "output_type": "stream",
     "text": [
      "3.14159\n"
     ]
    }
   ],
   "source": [
    "#30\n",
    "print(round(math.pi,5))"
   ]
  },
  {
   "cell_type": "code",
   "execution_count": 15,
   "metadata": {},
   "outputs": [
    {
     "name": "stdout",
     "output_type": "stream",
     "text": [
      "3.14\n"
     ]
    }
   ],
   "source": [
    "print(round(math.pi,2))"
   ]
  },
  {
   "cell_type": "code",
   "execution_count": 16,
   "metadata": {},
   "outputs": [
    {
     "name": "stdout",
     "output_type": "stream",
     "text": [
      "enter the radius: 5\n",
      "78.53981633974483\n"
     ]
    }
   ],
   "source": [
    "#31\n",
    "radius=int(input('enter the radius: '))\n",
    "area=(math.pi*(radius**2))\n",
    "print(area)"
   ]
  },
  {
   "cell_type": "code",
   "execution_count": 17,
   "metadata": {},
   "outputs": [
    {
     "name": "stdout",
     "output_type": "stream",
     "text": [
      "enter the height: 5\n",
      "enter the radius: 6\n",
      "565.487\n"
     ]
    }
   ],
   "source": [
    "#32\n",
    "h=int(input('enter the height: '))\n",
    "r=int(input('enter the radius: '))\n",
    "vol=(math.pi*(r**2)*h)\n",
    "print(round(vol,3))"
   ]
  },
  {
   "cell_type": "code",
   "execution_count": 18,
   "metadata": {},
   "outputs": [
    {
     "name": "stdout",
     "output_type": "stream",
     "text": [
      "enter the number: 5\n",
      "enter the number: 2\n",
      "5 divided by 2 gives 2 and 1\n"
     ]
    }
   ],
   "source": [
    "#33\n",
    "a=int(input('enter the number: '))\n",
    "b=int(input('enter the number: '))\n",
    "div=a//b\n",
    "rem=a%b\n",
    "print(f'{a} divided by {b} gives {div} and {rem}')"
   ]
  },
  {
   "cell_type": "code",
   "execution_count": 19,
   "metadata": {},
   "outputs": [
    {
     "name": "stdout",
     "output_type": "stream",
     "text": [
      "enter the number: 1\n",
      "enter the area of square: 5\n",
      "25\n"
     ]
    }
   ],
   "source": [
    "#34\n",
    "key=int(input('enter the number: '))\n",
    "if key==1:\n",
    "    a=int(input('enter the area of square: '))\n",
    "    a1=a**2\n",
    "    print(a1)\n",
    "elif key==2:\n",
    "        h=int(input('enter the height of triangle: '))\n",
    "        b=int(input('enter the base of triangle: '))\n",
    "        tri=((h*b)/2)\n",
    "        print(tri)\n",
    "else:\n",
    "    print('invaild key')"
   ]
  },
  {
   "cell_type": "code",
   "execution_count": 20,
   "metadata": {},
   "outputs": [
    {
     "name": "stdout",
     "output_type": "stream",
     "text": [
      "enter the number: 2\n",
      "enter the height of triangle: 2\n",
      "enter the base of triangle: 5\n",
      "5.0\n"
     ]
    }
   ],
   "source": [
    "key=int(input('enter the number: '))\n",
    "if key==1:\n",
    "    a=int(input('enter the area of square: '))\n",
    "    a1=a**2\n",
    "    print(a1)\n",
    "elif key==2:\n",
    "        h=int(input('enter the height of triangle: '))\n",
    "        b=int(input('enter the base of triangle: '))\n",
    "        tri=((h*b)/2)\n",
    "        print(tri)\n",
    "else:\n",
    "    print('invaild key')"
   ]
  },
  {
   "cell_type": "code",
   "execution_count": 21,
   "metadata": {},
   "outputs": [
    {
     "name": "stdout",
     "output_type": "stream",
     "text": [
      "enter the number: 5\n",
      "invaild key\n"
     ]
    }
   ],
   "source": [
    "key=int(input('enter the number: '))\n",
    "if key==1:\n",
    "    a=int(input('enter the area of square: '))\n",
    "    a1=a**2\n",
    "    print(a1)\n",
    "elif key==2:\n",
    "        h=int(input('enter the height of triangle: '))\n",
    "        b=int(input('enter the base of triangle: '))\n",
    "        tri=((h*b)/2)\n",
    "        print(tri)\n",
    "else:\n",
    "    print('invaild key')"
   ]
  },
  {
   "cell_type": "code",
   "execution_count": null,
   "metadata": {},
   "outputs": [],
   "source": []
  }
 ],
 "metadata": {
  "kernelspec": {
   "display_name": "Python 3",
   "language": "python",
   "name": "python3"
  },
  "language_info": {
   "codemirror_mode": {
    "name": "ipython",
    "version": 3
   },
   "file_extension": ".py",
   "mimetype": "text/x-python",
   "name": "python",
   "nbconvert_exporter": "python",
   "pygments_lexer": "ipython3",
   "version": "3.7.6"
  }
 },
 "nbformat": 4,
 "nbformat_minor": 4
}
