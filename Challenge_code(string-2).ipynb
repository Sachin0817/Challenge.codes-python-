{
 "cells": [
  {
   "cell_type": "code",
   "execution_count": 1,
   "metadata": {},
   "outputs": [
    {
     "name": "stdout",
     "output_type": "stream",
     "text": [
      "enter the name: sachin\n",
      "enter the surname: srimukh\n"
     ]
    },
    {
     "data": {
      "text/plain": [
       "14"
      ]
     },
     "execution_count": 1,
     "metadata": {},
     "output_type": "execute_result"
    }
   ],
   "source": [
    "#80\n",
    "firstname=input('enter the name: ')\n",
    "len(firstname)\n",
    "surname=input('enter the surname: ')\n",
    "len(surname)\n",
    "jointname=firstname+' '+surname\n",
    "len(jointname)"
   ]
  },
  {
   "cell_type": "code",
   "execution_count": 2,
   "metadata": {},
   "outputs": [
    {
     "name": "stdout",
     "output_type": "stream",
     "text": [
      "enter the name: sachin\n",
      "6\n",
      "enter the surname: srimukh\n",
      "7\n",
      "14\n"
     ]
    }
   ],
   "source": [
    "firstname=input('enter the name: ')\n",
    "print(len(firstname))\n",
    "surname=input('enter the surname: ')\n",
    "print(len(surname))\n",
    "jointname=firstname+' '+surname\n",
    "print(len(jointname))"
   ]
  },
  {
   "cell_type": "code",
   "execution_count": 3,
   "metadata": {},
   "outputs": [
    {
     "name": "stdout",
     "output_type": "stream",
     "text": [
      "enter ur favourite food: chapati\n",
      "c-h-a-p-a-t-i-"
     ]
    }
   ],
   "source": [
    "#81\n",
    "sub=input('enter ur favourite food: ')\n",
    "for i in sub:\n",
    "    print(i,end='-')"
   ]
  },
  {
   "cell_type": "code",
   "execution_count": 4,
   "metadata": {},
   "outputs": [
    {
     "name": "stdout",
     "output_type": "stream",
     "text": [
      "enter the starting point number: 4\n",
      "enter the ending point number: 12\n"
     ]
    },
    {
     "data": {
      "text/plain": [
       "' had a l'"
      ]
     },
     "execution_count": 4,
     "metadata": {},
     "output_type": "execute_result"
    }
   ],
   "source": [
    "#82\n",
    "poem='mary had a little lamp in her house'\n",
    "start=int(input('enter the starting point number: '))\n",
    "end=int(input('enter the ending point number: '))\n",
    "poem[start:end]"
   ]
  },
  {
   "cell_type": "code",
   "execution_count": 5,
   "metadata": {},
   "outputs": [
    {
     "name": "stdout",
     "output_type": "stream",
     "text": [
      "enter the word in upper case: sachin\n",
      "enter the word in upper case: srimukh\n",
      "enter the word in upper case: SACHIN\n",
      "SACHIN\n"
     ]
    }
   ],
   "source": [
    "#83\n",
    "word=input('enter the word in upper case: ')\n",
    "while word.islower():\n",
    "    word=input('enter the word in upper case: ')\n",
    "print(word)"
   ]
  },
  {
   "cell_type": "code",
   "execution_count": 6,
   "metadata": {},
   "outputs": [
    {
     "name": "stdout",
     "output_type": "stream",
     "text": [
      "enter the code: sachin\n",
      "SA\n"
     ]
    }
   ],
   "source": [
    "#84\n",
    "postcode=input('enter the code: ')\n",
    "code=postcode[0:2]\n",
    "print(code.upper())"
   ]
  },
  {
   "cell_type": "code",
   "execution_count": 7,
   "metadata": {},
   "outputs": [
    {
     "name": "stdout",
     "output_type": "stream",
     "text": [
      "enter ur name: sachin\n",
      "number of vowels in name: 1\n",
      "number of vowels in name: 2\n"
     ]
    }
   ],
   "source": [
    "#85\n",
    "ur_name=input('enter ur name: ')\n",
    "count=0\n",
    "for i in ur_name:\n",
    "    if i=='a' or i=='e' or i=='i' or i=='o' or i=='u':\n",
    "        count+=1\n",
    "        print('number of vowels in name:', count)\n"
   ]
  },
  {
   "cell_type": "code",
   "execution_count": 10,
   "metadata": {},
   "outputs": [
    {
     "name": "stdout",
     "output_type": "stream",
     "text": [
      "enter the newpassword: sachin\n",
      "enter the newpassword again: sachin\n",
      "thank you\n"
     ]
    }
   ],
   "source": [
    "#86\n",
    "new_password=input('enter the newpassword: ')\n",
    "again=input('enter the newpassword again: ')\n",
    "if new_password==again:\n",
    "    print('thank you')\n",
    "elif new_password.upper() and again.lower():\n",
    "    print('they must be in same case')\n",
    "else:\n",
    "    print('incorrect')"
   ]
  },
  {
   "cell_type": "code",
   "execution_count": 11,
   "metadata": {},
   "outputs": [
    {
     "name": "stdout",
     "output_type": "stream",
     "text": [
      "enter the newpassword: sachin\n",
      "enter the newpassword again: srimukh\n",
      "they must be in same case\n"
     ]
    }
   ],
   "source": [
    "new_password=input('enter the newpassword: ')\n",
    "again=input('enter the newpassword again: ')\n",
    "if new_password==again:\n",
    "    print('thank you')\n",
    "elif new_password.upper() and again.lower():\n",
    "    print('they must be in same case')\n",
    "else:\n",
    "    print('incorrect')"
   ]
  },
  {
   "cell_type": "code",
   "execution_count": 12,
   "metadata": {},
   "outputs": [
    {
     "name": "stdout",
     "output_type": "stream",
     "text": [
      "enter the newpassword: sachin\n",
      "enter the newpassword again: sachin\n",
      "thank you\n"
     ]
    }
   ],
   "source": [
    "new_password=input('enter the newpassword: ')\n",
    "again=input('enter the newpassword again: ')\n",
    "if new_password==again:\n",
    "    print('thank you')\n",
    "elif new_password.upper()==again:\n",
    "    print('they must be in same case')\n",
    "else:\n",
    "    print('incorrect')"
   ]
  },
  {
   "cell_type": "code",
   "execution_count": 13,
   "metadata": {},
   "outputs": [
    {
     "name": "stdout",
     "output_type": "stream",
     "text": [
      "enter the newpassword: sachin\n",
      "enter the newpassword again: srimukh\n",
      "incorrect\n"
     ]
    }
   ],
   "source": [
    "new_password=input('enter the newpassword: ')\n",
    "again=input('enter the newpassword again: ')\n",
    "if new_password==again:\n",
    "    print('thank you')\n",
    "elif new_password.upper()==again:\n",
    "    print('they must be in same case')\n",
    "else:\n",
    "    print('incorrect')"
   ]
  },
  {
   "cell_type": "code",
   "execution_count": 14,
   "metadata": {},
   "outputs": [
    {
     "name": "stdout",
     "output_type": "stream",
     "text": [
      "enter the newpassword: SACHIN\n",
      "enter the newpassword again: sachin\n",
      "incorrect\n"
     ]
    }
   ],
   "source": [
    "new_password=input('enter the newpassword: ')\n",
    "again=input('enter the newpassword again: ')\n",
    "if new_password==again:\n",
    "    print('thank you')\n",
    "elif new_password.upper()==again:\n",
    "    print('they must be in same case')\n",
    "else:\n",
    "    print('incorrect')"
   ]
  },
  {
   "cell_type": "code",
   "execution_count": 16,
   "metadata": {},
   "outputs": [
    {
     "name": "stdout",
     "output_type": "stream",
     "text": [
      "enter a word: sachin\n",
      "n\n",
      "i\n",
      "h\n",
      "c\n",
      "a\n",
      "s\n"
     ]
    }
   ],
   "source": [
    "#87\n",
    "word=input('enter a word: ')\n",
    "length=len(word)\n",
    "num=1\n",
    "for x in word:\n",
    "    pos=length-num\n",
    "    letter=word[pos]\n",
    "    print(letter)\n",
    "    num+=1"
   ]
  },
  {
   "cell_type": "code",
   "execution_count": null,
   "metadata": {},
   "outputs": [],
   "source": []
  }
 ],
 "metadata": {
  "kernelspec": {
   "display_name": "Python 3",
   "language": "python",
   "name": "python3"
  },
  "language_info": {
   "codemirror_mode": {
    "name": "ipython",
    "version": 3
   },
   "file_extension": ".py",
   "mimetype": "text/x-python",
   "name": "python",
   "nbconvert_exporter": "python",
   "pygments_lexer": "ipython3",
   "version": "3.7.6"
  }
 },
 "nbformat": 4,
 "nbformat_minor": 4
}
