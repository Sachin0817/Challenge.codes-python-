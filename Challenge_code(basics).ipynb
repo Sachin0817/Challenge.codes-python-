{
 "cells": [
  {
   "cell_type": "code",
   "execution_count": 1,
   "metadata": {},
   "outputs": [
    {
     "name": "stdout",
     "output_type": "stream",
     "text": [
      "entre the digit: 5\n"
     ]
    }
   ],
   "source": [
    "numvalue=input('entre the digit: ')"
   ]
  },
  {
   "cell_type": "code",
   "execution_count": 2,
   "metadata": {},
   "outputs": [
    {
     "data": {
      "text/plain": [
       "str"
      ]
     },
     "execution_count": 2,
     "metadata": {},
     "output_type": "execute_result"
    }
   ],
   "source": [
    "type(numvalue)"
   ]
  },
  {
   "cell_type": "code",
   "execution_count": 3,
   "metadata": {},
   "outputs": [
    {
     "name": "stdout",
     "output_type": "stream",
     "text": [
      "enter the numbers: 17\n"
     ]
    }
   ],
   "source": [
    "numvalue1=int(input('enter the numbers: '))"
   ]
  },
  {
   "cell_type": "code",
   "execution_count": 4,
   "metadata": {},
   "outputs": [
    {
     "data": {
      "text/plain": [
       "int"
      ]
     },
     "execution_count": 4,
     "metadata": {},
     "output_type": "execute_result"
    }
   ],
   "source": [
    "type(numvalue1)"
   ]
  },
  {
   "cell_type": "markdown",
   "metadata": {},
   "source": [
    "## the basics (challenges)"
   ]
  },
  {
   "cell_type": "code",
   "execution_count": 1,
   "metadata": {},
   "outputs": [
    {
     "name": "stdout",
     "output_type": "stream",
     "text": [
      "enter the first namesachin\n"
     ]
    }
   ],
   "source": [
    "#1\n",
    "firstname=input('enter the first name')"
   ]
  },
  {
   "cell_type": "code",
   "execution_count": 2,
   "metadata": {},
   "outputs": [
    {
     "name": "stdout",
     "output_type": "stream",
     "text": [
      "hello sachin\n"
     ]
    }
   ],
   "source": [
    "print('hello',firstname)"
   ]
  },
  {
   "cell_type": "code",
   "execution_count": 3,
   "metadata": {},
   "outputs": [
    {
     "name": "stdout",
     "output_type": "stream",
     "text": [
      "enter the sure name: srimukh\n"
     ]
    }
   ],
   "source": [
    "#2\n",
    "surename=input('enter the sure name: ')"
   ]
  },
  {
   "cell_type": "code",
   "execution_count": 4,
   "metadata": {},
   "outputs": [
    {
     "name": "stdout",
     "output_type": "stream",
     "text": [
      "hello srimukh\n"
     ]
    }
   ],
   "source": [
    "print('hello',surename)"
   ]
  },
  {
   "cell_type": "code",
   "execution_count": 5,
   "metadata": {},
   "outputs": [
    {
     "name": "stdout",
     "output_type": "stream",
     "text": [
      "what do you call a bear with no teeth \n",
      " answer: a gummy bear\n"
     ]
    }
   ],
   "source": [
    "#3\n",
    "print('what do you call a bear with no teeth \\n answer: a gummy bear')"
   ]
  },
  {
   "cell_type": "code",
   "execution_count": 7,
   "metadata": {},
   "outputs": [
    {
     "name": "stdout",
     "output_type": "stream",
     "text": [
      "enter the two number: 45\n"
     ]
    }
   ],
   "source": [
    "#4\n",
    "number1=int(input('enter the two number: '))"
   ]
  },
  {
   "cell_type": "code",
   "execution_count": 8,
   "metadata": {},
   "outputs": [
    {
     "name": "stdout",
     "output_type": "stream",
     "text": [
      "enter the two number: 5\n"
     ]
    }
   ],
   "source": [
    "number2=int(input('enter the two number: '))"
   ]
  },
  {
   "cell_type": "code",
   "execution_count": 9,
   "metadata": {},
   "outputs": [
    {
     "name": "stdout",
     "output_type": "stream",
     "text": [
      "the total is: 50\n"
     ]
    }
   ],
   "source": [
    "print('the total is:',number1+number2)"
   ]
  },
  {
   "cell_type": "code",
   "execution_count": 10,
   "metadata": {},
   "outputs": [
    {
     "name": "stdout",
     "output_type": "stream",
     "text": [
      "enter the third number: 10\n"
     ]
    }
   ],
   "source": [
    "number3=int(input('enter the third number: '))"
   ]
  },
  {
   "cell_type": "code",
   "execution_count": 11,
   "metadata": {},
   "outputs": [
    {
     "name": "stdout",
     "output_type": "stream",
     "text": [
      "the ansmer is:  500\n"
     ]
    }
   ],
   "source": [
    "#5\n",
    "print('the ansmer is: ',((number1+number2)*number3))"
   ]
  },
  {
   "cell_type": "code",
   "execution_count": 12,
   "metadata": {},
   "outputs": [
    {
     "name": "stdout",
     "output_type": "stream",
     "text": [
      "enter how slices of pizza: 12\n",
      "12\n"
     ]
    }
   ],
   "source": [
    "#6\n",
    "print(input('enter how slices of pizza: '))"
   ]
  },
  {
   "cell_type": "code",
   "execution_count": 13,
   "metadata": {},
   "outputs": [
    {
     "name": "stdout",
     "output_type": "stream",
     "text": [
      "enter how slices of pizza you eaten: 8\n",
      "8\n"
     ]
    }
   ],
   "source": [
    "print(input('enter how slices of pizza you eaten: '))"
   ]
  },
  {
   "cell_type": "code",
   "execution_count": 14,
   "metadata": {},
   "outputs": [
    {
     "name": "stdout",
     "output_type": "stream",
     "text": [
      "enter how slices of pizza remaining: 4\n",
      "4\n"
     ]
    }
   ],
   "source": [
    "print(input('enter how slices of pizza remaining: '))"
   ]
  },
  {
   "cell_type": "code",
   "execution_count": 15,
   "metadata": {},
   "outputs": [
    {
     "name": "stdout",
     "output_type": "stream",
     "text": [
      "enter the age: 22\n"
     ]
    }
   ],
   "source": [
    "#7\n",
    "age=input('enter the age: ')"
   ]
  },
  {
   "cell_type": "code",
   "execution_count": 18,
   "metadata": {},
   "outputs": [
    {
     "name": "stdout",
     "output_type": "stream",
     "text": [
      "sachin next bdy u will b 23\n"
     ]
    }
   ],
   "source": [
    "print(f'{firstname} next bdy u will b {age+1}')"
   ]
  },
  {
   "cell_type": "code",
   "execution_count": 19,
   "metadata": {},
   "outputs": [
    {
     "name": "stdout",
     "output_type": "stream",
     "text": [
      "enter the total bill amount:  \n",
      " number of ppl: 5\n",
      "5\n"
     ]
    }
   ],
   "source": [
    "#8\n",
    "print(input('enter the total bill amount:  \\n number of ppl: '))"
   ]
  },
  {
   "cell_type": "code",
   "execution_count": 20,
   "metadata": {},
   "outputs": [
    {
     "name": "stdout",
     "output_type": "stream",
     "text": [
      "enter the total bill amount: 500\n"
     ]
    }
   ],
   "source": [
    "dinner=int(input('enter the total bill amount: '))"
   ]
  },
  {
   "cell_type": "code",
   "execution_count": 21,
   "metadata": {},
   "outputs": [
    {
     "name": "stdout",
     "output_type": "stream",
     "text": [
      "enter the members: 5\n"
     ]
    }
   ],
   "source": [
    "dinner_ppl=int(input('enter the members: '))"
   ]
  },
  {
   "cell_type": "code",
   "execution_count": 22,
   "metadata": {},
   "outputs": [
    {
     "name": "stdout",
     "output_type": "stream",
     "text": [
      "each person shld pay is:  100.0\n"
     ]
    }
   ],
   "source": [
    "print('each person shld pay is: ',(dinner/dinner_ppl))"
   ]
  },
  {
   "cell_type": "code",
   "execution_count": 24,
   "metadata": {},
   "outputs": [
    {
     "name": "stdout",
     "output_type": "stream",
     "text": [
      "enter the weight in kg: 5\n"
     ]
    }
   ],
   "source": [
    "#9\n",
    "weight=int(input('enter the weight in kg: '))"
   ]
  },
  {
   "cell_type": "code",
   "execution_count": 25,
   "metadata": {},
   "outputs": [
    {
     "name": "stdout",
     "output_type": "stream",
     "text": [
      "kg in pounds 11020\n"
     ]
    }
   ],
   "source": [
    "print('kg in pounds',(weight*2204))"
   ]
  },
  {
   "cell_type": "code",
   "execution_count": 27,
   "metadata": {},
   "outputs": [
    {
     "name": "stdout",
     "output_type": "stream",
     "text": [
      "enter the number of days: 5\n",
      "5\n",
      "hours minutes seconds 120 7200 432000\n"
     ]
    }
   ],
   "source": [
    "#10\n",
    "days=int(input('enter the number of days: '))\n",
    "hours=days*24\n",
    "minutes=hours*60\n",
    "seconds=minutes*60\n",
    "print(days)\n",
    "print('hours minutes seconds',hours,minutes,seconds)"
   ]
  },
  {
   "cell_type": "code",
   "execution_count": 28,
   "metadata": {},
   "outputs": [
    {
     "name": "stdout",
     "output_type": "stream",
     "text": [
      "enter larger number over 100: 110\n",
      "smaller number under 10: 5\n",
      "22\n"
     ]
    }
   ],
   "source": [
    "#11\n",
    "larger=int(input('enter larger number over 100: '))\n",
    "smaller=int(input('smaller number under 10: '))\n",
    "ans=larger//smaller\n",
    "print(ans)   "
   ]
  },
  {
   "cell_type": "code",
   "execution_count": null,
   "metadata": {},
   "outputs": [],
   "source": []
  }
 ],
 "metadata": {
  "kernelspec": {
   "display_name": "Python 3",
   "language": "python",
   "name": "python3"
  },
  "language_info": {
   "codemirror_mode": {
    "name": "ipython",
    "version": 3
   },
   "file_extension": ".py",
   "mimetype": "text/x-python",
   "name": "python",
   "nbconvert_exporter": "python",
   "pygments_lexer": "ipython3",
   "version": "3.7.6"
  }
 },
 "nbformat": 4,
 "nbformat_minor": 4
}
