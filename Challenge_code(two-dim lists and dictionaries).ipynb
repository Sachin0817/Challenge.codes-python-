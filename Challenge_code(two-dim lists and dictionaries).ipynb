{
 "cells": [
  {
   "cell_type": "code",
   "execution_count": 1,
   "metadata": {},
   "outputs": [],
   "source": [
    "#96\n",
    "simple_list=[[2,5,8],[3,7,4],[1,6,9],[4,2,0]]"
   ]
  },
  {
   "cell_type": "code",
   "execution_count": 2,
   "metadata": {},
   "outputs": [
    {
     "name": "stdout",
     "output_type": "stream",
     "text": [
      "enter the row number: 2\n",
      "enter the column number: 1\n"
     ]
    },
    {
     "data": {
      "text/plain": [
       "6"
      ]
     },
     "execution_count": 2,
     "metadata": {},
     "output_type": "execute_result"
    }
   ],
   "source": [
    "#97\n",
    "row=int(input('enter the row number: '))\n",
    "column=int(input('enter the column number: '))\n",
    "simple_list[row][column]"
   ]
  },
  {
   "cell_type": "code",
   "execution_count": 3,
   "metadata": {},
   "outputs": [
    {
     "name": "stdout",
     "output_type": "stream",
     "text": [
      "enter the row number u wanna display: 2\n",
      "[1, 6, 9]\n",
      "enter the new value: 2\n",
      "[1, 6, 9, 2]\n"
     ]
    }
   ],
   "source": [
    "#98\n",
    "row=int(input('enter the row number u wanna display: '))\n",
    "print(simple_list[row])\n",
    "value=int(input('enter the new value: '))\n",
    "simple_list[row].append(value)\n",
    "print(simple_list[row])"
   ]
  },
  {
   "cell_type": "code",
   "execution_count": 4,
   "metadata": {},
   "outputs": [
    {
     "name": "stdout",
     "output_type": "stream",
     "text": [
      "enter the row number u wanna display: 2\n",
      "[1, 6, 9, 2]\n",
      "enter the column number: 2\n",
      "9\n",
      "enter the new value: 12\n",
      "[1, 6, 12, 2]\n"
     ]
    }
   ],
   "source": [
    "#99\n",
    "row=int(input('enter the row number u wanna display: '))\n",
    "print(simple_list[row])\n",
    "column=int(input('enter the column number: '))\n",
    "print(simple_list[row][column])\n",
    "value=int(input('enter the new value: '))\n",
    "simple_list[row][column]=value\n",
    "print(simple_list[row])"
   ]
  },
  {
   "cell_type": "code",
   "execution_count": 5,
   "metadata": {},
   "outputs": [],
   "source": [
    "#100\n",
    "sale={'john':{'n':3056,'s':8463,'e':5566,'w':2694},'tom':{'n':3088,'s':7463,'e':4566,'w':1694},'tim':{'n':4056,'s':9463,'e':3566,'w':4694}}"
   ]
  },
  {
   "cell_type": "code",
   "execution_count": 6,
   "metadata": {},
   "outputs": [
    {
     "data": {
      "text/plain": [
       "{'john': {'n': 3056, 's': 8463, 'e': 5566, 'w': 2694},\n",
       " 'tom': {'n': 3088, 's': 7463, 'e': 4566, 'w': 1694},\n",
       " 'tim': {'n': 4056, 's': 9463, 'e': 3566, 'w': 4694}}"
      ]
     },
     "execution_count": 6,
     "metadata": {},
     "output_type": "execute_result"
    }
   ],
   "source": [
    "sale"
   ]
  },
  {
   "cell_type": "code",
   "execution_count": 7,
   "metadata": {},
   "outputs": [
    {
     "name": "stdout",
     "output_type": "stream",
     "text": [
      "enter the name u wanna: tom\n",
      "enter the region u want: e\n",
      "4566\n",
      "enter the name u wanna mke changes: tim\n",
      "enter the region u want mke changes: s\n",
      "enter the new value: 6054\n",
      "6054\n"
     ]
    }
   ],
   "source": [
    "#101\n",
    "name=input('enter the name u wanna: ')\n",
    "region=input('enter the region u want: ')\n",
    "print(sale[name][region])\n",
    "name=input('enter the name u wanna mke changes: ')\n",
    "region=input('enter the region u want mke changes: ')\n",
    "value=int(input('enter the new value: '))\n",
    "sale[name][region]=value\n",
    "print(sale[name][region])\n",
    "\n",
    "\n",
    "\n"
   ]
  },
  {
   "cell_type": "code",
   "execution_count": 8,
   "metadata": {},
   "outputs": [
    {
     "name": "stdout",
     "output_type": "stream",
     "text": [
      "enter the name u wanna: john\n",
      "enter the region u want: s\n",
      "8463\n",
      "enter the new value: 1024\n",
      "1024\n",
      "\n",
      "3056\n",
      "1024\n",
      "5566\n",
      "2694\n"
     ]
    }
   ],
   "source": [
    "name=input('enter the name u wanna: ')\n",
    "region=input('enter the region u want: ')\n",
    "print(sale[name][region])\n",
    "#name=input('enter the name u wanna mke changes: ')\n",
    "#region=input('enter the region u want mke changes: ')\n",
    "value=int(input('enter the new value: '))\n",
    "sale[name][region]=value\n",
    "print(sale[name][region])\n",
    "print()\n",
    "for i in range(0,1):\n",
    "    print(sale[name]['n'])\n",
    "    print(sale[name]['s'])\n",
    "    print(sale[name]['e'])\n",
    "    print(sale[name]['w'])"
   ]
  },
  {
   "cell_type": "code",
   "execution_count": 10,
   "metadata": {},
   "outputs": [],
   "source": [
    "#102\n",
    "bio={'one':{'name':'sachin','shoe':'puma','age':10},'two':{'name':'vinay','shoe':'vkc','age':11},\n",
    "     'three':{'name':'munna','shoe':'adidas','age':12},'four':{'name':'vivek','shoe':'hrx','age':13}}"
   ]
  },
  {
   "cell_type": "code",
   "execution_count": 11,
   "metadata": {},
   "outputs": [
    {
     "data": {
      "text/plain": [
       "{'one': {'name': 'sachin', 'shoe': 'puma', 'age': 10},\n",
       " 'two': {'name': 'vinay', 'shoe': 'vkc', 'age': 11},\n",
       " 'three': {'name': 'munna', 'shoe': 'adidas', 'age': 12},\n",
       " 'four': {'name': 'vivek', 'shoe': 'hrx', 'age': 13}}"
      ]
     },
     "execution_count": 11,
     "metadata": {},
     "output_type": "execute_result"
    }
   ],
   "source": [
    "bio"
   ]
  },
  {
   "cell_type": "code",
   "execution_count": 13,
   "metadata": {},
   "outputs": [
    {
     "name": "stdout",
     "output_type": "stream",
     "text": [
      "enter the person: three\n",
      "12\n",
      "adidas\n"
     ]
    }
   ],
   "source": [
    "#102-2nd part\n",
    "for i in range(0,1):\n",
    "    person=input('enter the person: ')\n",
    "    print(bio[person]['age'])\n",
    "    print(bio[person]['shoe'])"
   ]
  },
  {
   "cell_type": "code",
   "execution_count": 14,
   "metadata": {},
   "outputs": [
    {
     "name": "stdout",
     "output_type": "stream",
     "text": [
      "name age\n",
      "sachin 10\n",
      "vinay 11\n",
      "munna 12\n",
      "vivek 13\n"
     ]
    }
   ],
   "source": [
    "#103\n",
    "print('name', 'age')\n",
    "for i in bio:\n",
    "    print(bio[i]['name'],bio[i]['age'])"
   ]
  },
  {
   "cell_type": "code",
   "execution_count": 15,
   "metadata": {},
   "outputs": [
    {
     "name": "stdout",
     "output_type": "stream",
     "text": [
      "enter the name u wanna remove: two\n",
      "sachin 10 puma\n",
      "munna 12 adidas\n",
      "vivek 13 hrx\n"
     ]
    }
   ],
   "source": [
    "#104\n",
    "remove=input('enter the name u wanna remove: ')\n",
    "del bio[remove]\n",
    "for i in bio:\n",
    "    print(bio[i]['name'],bio[i]['age'],bio[i]['shoe']) "
   ]
  },
  {
   "cell_type": "code",
   "execution_count": null,
   "metadata": {},
   "outputs": [],
   "source": []
  }
 ],
 "metadata": {
  "kernelspec": {
   "display_name": "Python 3",
   "language": "python",
   "name": "python3"
  },
  "language_info": {
   "codemirror_mode": {
    "name": "ipython",
    "version": 3
   },
   "file_extension": ".py",
   "mimetype": "text/x-python",
   "name": "python",
   "nbconvert_exporter": "python",
   "pygments_lexer": "ipython3",
   "version": "3.7.6"
  }
 },
 "nbformat": 4,
 "nbformat_minor": 4
}
