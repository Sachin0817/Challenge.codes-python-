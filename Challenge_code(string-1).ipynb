{
 "cells": [
  {
   "cell_type": "code",
   "execution_count": 1,
   "metadata": {},
   "outputs": [
    {
     "name": "stdout",
     "output_type": "stream",
     "text": [
      "enter the name: sachin\n",
      "6\n"
     ]
    }
   ],
   "source": [
    "##20\n",
    "first_name=input('enter the name: ')\n",
    "count=len(first_name)\n",
    "print(count)"
   ]
  },
  {
   "cell_type": "code",
   "execution_count": 4,
   "metadata": {},
   "outputs": [
    {
     "name": "stdout",
     "output_type": "stream",
     "text": [
      "enter the sur name: srimukh\n",
      "13\n"
     ]
    }
   ],
   "source": [
    "#21\n",
    "sur_name=input('enter the sur name: ')\n",
    "join_name=first_name+''+sur_name\n",
    "print(len(join_name))"
   ]
  },
  {
   "cell_type": "code",
   "execution_count": 5,
   "metadata": {},
   "outputs": [
    {
     "name": "stdout",
     "output_type": "stream",
     "text": [
      "enter the sur name: chappi\n",
      "12\n"
     ]
    }
   ],
   "source": [
    "sur_name=input('enter the sur name: ')\n",
    "join_name=first_name+''+sur_name\n",
    "print(len(join_name))"
   ]
  },
  {
   "cell_type": "code",
   "execution_count": 6,
   "metadata": {},
   "outputs": [
    {
     "name": "stdout",
     "output_type": "stream",
     "text": [
      "enter the sur name: srimukh\n",
      "13 sachinsrimukh\n"
     ]
    }
   ],
   "source": [
    "sur_name=input('enter the sur name: ')\n",
    "join_name=first_name+''+sur_name\n",
    "print(len(join_name),  join_name)"
   ]
  },
  {
   "cell_type": "code",
   "execution_count": 7,
   "metadata": {},
   "outputs": [],
   "source": [
    "first_name+=sur_name"
   ]
  },
  {
   "cell_type": "code",
   "execution_count": 8,
   "metadata": {},
   "outputs": [
    {
     "data": {
      "text/plain": [
       "'sachinsrimukh'"
      ]
     },
     "execution_count": 8,
     "metadata": {},
     "output_type": "execute_result"
    }
   ],
   "source": [
    "first_name"
   ]
  },
  {
   "cell_type": "code",
   "execution_count": 9,
   "metadata": {},
   "outputs": [],
   "source": [
    "first_name+=' '+sur_name"
   ]
  },
  {
   "cell_type": "code",
   "execution_count": 10,
   "metadata": {},
   "outputs": [
    {
     "data": {
      "text/plain": [
       "'sachinsrimukh srimukh'"
      ]
     },
     "execution_count": 10,
     "metadata": {},
     "output_type": "execute_result"
    }
   ],
   "source": [
    "first_name"
   ]
  },
  {
   "cell_type": "code",
   "execution_count": 11,
   "metadata": {},
   "outputs": [
    {
     "data": {
      "text/plain": [
       "21"
      ]
     },
     "execution_count": 11,
     "metadata": {},
     "output_type": "execute_result"
    }
   ],
   "source": [
    "len(first_name)"
   ]
  },
  {
   "cell_type": "code",
   "execution_count": 12,
   "metadata": {},
   "outputs": [
    {
     "ename": "SyntaxError",
     "evalue": "unexpected character after line continuation character (<ipython-input-12-04cd470cbedd>, line 5)",
     "output_type": "error",
     "traceback": [
      "\u001b[1;36m  File \u001b[1;32m\"<ipython-input-12-04cd470cbedd>\"\u001b[1;36m, line \u001b[1;32m5\u001b[0m\n\u001b[1;33m    print(len(name1) \\n name1)\u001b[0m\n\u001b[1;37m                              ^\u001b[0m\n\u001b[1;31mSyntaxError\u001b[0m\u001b[1;31m:\u001b[0m unexpected character after line continuation character\n"
     ]
    }
   ],
   "source": [
    "##22\n",
    "name1=input('enter the name1 in lower case: ')\n",
    "name2=input('enter the name2 in lower case: ')\n",
    "name1+=' '+name2\n",
    "name1.title()\n",
    "print(len(name1) \\n name1)\n"
   ]
  },
  {
   "cell_type": "code",
   "execution_count": 13,
   "metadata": {},
   "outputs": [
    {
     "name": "stdout",
     "output_type": "stream",
     "text": [
      "enter the name1 in lower case: chappi\n",
      "enter the name2 in lower case: sri\n",
      "chappi sri\n"
     ]
    }
   ],
   "source": [
    "#22\n",
    "name1=input('enter the name1 in lower case: ')\n",
    "name2=input('enter the name2 in lower case: ')\n",
    "name1+=' '+name2\n",
    "name1.title()\n",
    "len(name1)\n",
    "print(name1)"
   ]
  },
  {
   "cell_type": "code",
   "execution_count": 14,
   "metadata": {},
   "outputs": [
    {
     "data": {
      "text/plain": [
       "'chappi sri'"
      ]
     },
     "execution_count": 14,
     "metadata": {},
     "output_type": "execute_result"
    }
   ],
   "source": [
    "name1"
   ]
  },
  {
   "cell_type": "code",
   "execution_count": 15,
   "metadata": {},
   "outputs": [
    {
     "data": {
      "text/plain": [
       "'Chappi Sri'"
      ]
     },
     "execution_count": 15,
     "metadata": {},
     "output_type": "execute_result"
    }
   ],
   "source": [
    "name1.title()"
   ]
  },
  {
   "cell_type": "code",
   "execution_count": 21,
   "metadata": {},
   "outputs": [],
   "source": [
    "#23\n",
    "mohan='mary had a little lamp in her home'"
   ]
  },
  {
   "cell_type": "code",
   "execution_count": 22,
   "metadata": {},
   "outputs": [
    {
     "data": {
      "text/plain": [
       "'ittle '"
      ]
     },
     "execution_count": 22,
     "metadata": {},
     "output_type": "execute_result"
    }
   ],
   "source": [
    "mohan[12:18]"
   ]
  },
  {
   "cell_type": "code",
   "execution_count": 23,
   "metadata": {},
   "outputs": [
    {
     "data": {
      "text/plain": [
       "'SACHIN'"
      ]
     },
     "execution_count": 23,
     "metadata": {},
     "output_type": "execute_result"
    }
   ],
   "source": [
    "##24\n",
    "word='sachin'\n",
    "word.upper()"
   ]
  },
  {
   "cell_type": "code",
   "execution_count": 26,
   "metadata": {},
   "outputs": [
    {
     "name": "stdout",
     "output_type": "stream",
     "text": [
      "enter the first name: sri\n",
      "srisrimukh\n"
     ]
    }
   ],
   "source": [
    "#25\n",
    "firstname=input('enter the first name: ')\n",
    "if (len(firstname)<5):\n",
    "    firstname+=sur_name\n",
    "    firstname.upper()\n",
    "    print(firstname)\n",
    "else:\n",
    "        print(firstname)"
   ]
  },
  {
   "cell_type": "code",
   "execution_count": 27,
   "metadata": {},
   "outputs": [
    {
     "data": {
      "text/plain": [
       "'srisrimukh'"
      ]
     },
     "execution_count": 27,
     "metadata": {},
     "output_type": "execute_result"
    }
   ],
   "source": [
    "firstname"
   ]
  },
  {
   "cell_type": "code",
   "execution_count": 28,
   "metadata": {},
   "outputs": [
    {
     "name": "stdout",
     "output_type": "stream",
     "text": [
      "enter the first name: srimukh\n",
      "srimukh\n"
     ]
    }
   ],
   "source": [
    "firstname=input('enter the first name: ')\n",
    "if (len(firstname)<5):\n",
    "    firstname+=sur_name\n",
    "    firstname.upper()\n",
    "    print(firstname)\n",
    "else:\n",
    "        print(firstname)"
   ]
  },
  {
   "cell_type": "code",
   "execution_count": 29,
   "metadata": {},
   "outputs": [
    {
     "data": {
      "text/plain": [
       "'srimukh'"
      ]
     },
     "execution_count": 29,
     "metadata": {},
     "output_type": "execute_result"
    }
   ],
   "source": [
    "firstname"
   ]
  },
  {
   "cell_type": "code",
   "execution_count": 31,
   "metadata": {},
   "outputs": [
    {
     "name": "stdout",
     "output_type": "stream",
     "text": [
      "enter the first name: sri\n",
      "SRISRIMUKH\n"
     ]
    }
   ],
   "source": [
    "firstname=input('enter the first name: ')\n",
    "if (len(firstname)<5):\n",
    "    firstname+=sur_name\n",
    "    change_case=firstname.upper()\n",
    "    print(change_case)\n",
    "else:\n",
    "        print(firstname)"
   ]
  },
  {
   "cell_type": "code",
   "execution_count": 32,
   "metadata": {},
   "outputs": [
    {
     "name": "stdout",
     "output_type": "stream",
     "text": [
      "enter the word: arun\n",
      "arunway\n"
     ]
    }
   ],
   "source": [
    "##26\n",
    "word=input('enter the word: ')\n",
    "first=word[0]\n",
    "length=len(word)\n",
    "rest=word[1:length]\n",
    "if (first!='a' and first!='e' and first!='i' and first!='o' and first!='u'):\n",
    "    newword=rest+first+'ay'\n",
    "else:\n",
    "    newword=word+'way'\n",
    "print(newword.lower())"
   ]
  },
  {
   "cell_type": "code",
   "execution_count": 33,
   "metadata": {},
   "outputs": [
    {
     "name": "stdout",
     "output_type": "stream",
     "text": [
      "enter the word: sri\n",
      "risay\n"
     ]
    }
   ],
   "source": [
    "word=input('enter the word: ')\n",
    "first=word[0]\n",
    "length=len(word)\n",
    "rest=word[1:length]\n",
    "if (first!='a' and first!='e' and first!='i' and first!='o' and first!='u'):\n",
    "    newword=rest+first+'ay'\n",
    "else:\n",
    "    newword=word+'way'\n",
    "print(newword.lower())"
   ]
  },
  {
   "cell_type": "code",
   "execution_count": null,
   "metadata": {},
   "outputs": [],
   "source": []
  }
 ],
 "metadata": {
  "kernelspec": {
   "display_name": "Python 3",
   "language": "python",
   "name": "python3"
  },
  "language_info": {
   "codemirror_mode": {
    "name": "ipython",
    "version": 3
   },
   "file_extension": ".py",
   "mimetype": "text/x-python",
   "name": "python",
   "nbconvert_exporter": "python",
   "pygments_lexer": "ipython3",
   "version": "3.7.6"
  }
 },
 "nbformat": 4,
 "nbformat_minor": 4
}
