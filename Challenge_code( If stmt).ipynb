{
 "cells": [
  {
   "cell_type": "code",
   "execution_count": 17,
   "metadata": {},
   "outputs": [
    {
     "name": "stdout",
     "output_type": "stream",
     "text": [
      "enter the first number= 4\n",
      "enter the second number= 5\n",
      "4 5\n"
     ]
    }
   ],
   "source": [
    "#12\n",
    "a=int(input('enter the first number= '))\n",
    "b=int(input('enter the second number= '))\n",
    "if a>b:\n",
    "    print(b,a)\n",
    "else:\n",
    "    print(a,b) "
   ]
  },
  {
   "cell_type": "code",
   "execution_count": 18,
   "metadata": {},
   "outputs": [
    {
     "name": "stdout",
     "output_type": "stream",
     "text": [
      "enter the first number= 5\n",
      "enter the second number= 4\n",
      "4 5\n"
     ]
    }
   ],
   "source": [
    "a=int(input('enter the first number= '))\n",
    "b=int(input('enter the second number= '))\n",
    "if a>b:\n",
    "    print(b,a)\n",
    "else:\n",
    "    print(a,b) "
   ]
  },
  {
   "cell_type": "code",
   "execution_count": 19,
   "metadata": {},
   "outputs": [
    {
     "name": "stdout",
     "output_type": "stream",
     "text": [
      "enter the number: 18\n",
      "thank you\n"
     ]
    }
   ],
   "source": [
    "#13\n",
    "c=int(input('enter the number: '))\n",
    "if c<20:\n",
    "    print('thank you')\n",
    "else:\n",
    "    print('too high')"
   ]
  },
  {
   "cell_type": "code",
   "execution_count": 20,
   "metadata": {},
   "outputs": [
    {
     "name": "stdout",
     "output_type": "stream",
     "text": [
      "enter the number: 28\n",
      "too high\n"
     ]
    }
   ],
   "source": [
    "c=int(input('enter the number: '))\n",
    "if c<20:\n",
    "    print('thank you')\n",
    "else:\n",
    "    print('too high')"
   ]
  },
  {
   "cell_type": "code",
   "execution_count": 21,
   "metadata": {},
   "outputs": [
    {
     "name": "stdout",
     "output_type": "stream",
     "text": [
      "enter the number btw 10 and 20: 15\n",
      "thank you\n"
     ]
    }
   ],
   "source": [
    "#14\n",
    "d=int(input('enter the number btw 10 and 20: '))\n",
    "if(d>10 and d<20):\n",
    "    print('thank you')\n",
    "else:\n",
    "    print('incorrect answer')"
   ]
  },
  {
   "cell_type": "code",
   "execution_count": 22,
   "metadata": {},
   "outputs": [
    {
     "name": "stdout",
     "output_type": "stream",
     "text": [
      "enter the number btw 10 and 20: 9\n",
      "incorrect answer\n"
     ]
    }
   ],
   "source": [
    "d=int(input('enter the number btw 10 and 20: '))\n",
    "if(d>10 and d<20):\n",
    "    print('thank you')\n",
    "else:\n",
    "    print('incorrect answer')"
   ]
  },
  {
   "cell_type": "code",
   "execution_count": 23,
   "metadata": {},
   "outputs": [
    {
     "name": "stdout",
     "output_type": "stream",
     "text": [
      "enter the number btw 10 and 20: 23\n",
      "incorrect answer\n"
     ]
    }
   ],
   "source": [
    "d=int(input('enter the number btw 10 and 20: '))\n",
    "if(d>10 and d<20):\n",
    "    print('thank you')\n",
    "else:\n",
    "    print('incorrect answer')"
   ]
  },
  {
   "cell_type": "code",
   "execution_count": 24,
   "metadata": {},
   "outputs": [
    {
     "name": "stdout",
     "output_type": "stream",
     "text": [
      "enter the favourite color:  red\n",
      "i like red too\n"
     ]
    }
   ],
   "source": [
    "#15\n",
    "s=input('enter the favourite color:  ')\n",
    "if (s==\"RED\" or s==\"Red\" or s=='red'):\n",
    "    print('i like red too')\n",
    "else:\n",
    "    print('i dont lik the color')"
   ]
  },
  {
   "cell_type": "code",
   "execution_count": 25,
   "metadata": {},
   "outputs": [
    {
     "name": "stdout",
     "output_type": "stream",
     "text": [
      "enter the favourite color:  RED\n",
      "i like red too\n"
     ]
    }
   ],
   "source": [
    "s=input('enter the favourite color:  ')\n",
    "if (s==\"RED\" or s==\"Red\" or s=='red'):\n",
    "    print('i like red too')\n",
    "else:\n",
    "    print('i dont lik the color')"
   ]
  },
  {
   "cell_type": "code",
   "execution_count": 26,
   "metadata": {},
   "outputs": [
    {
     "name": "stdout",
     "output_type": "stream",
     "text": [
      "enter the favourite color:  Red\n",
      "i like red too\n"
     ]
    }
   ],
   "source": [
    "s=input('enter the favourite color:  ')\n",
    "if (s==\"RED\" or s==\"Red\" or s=='red'):\n",
    "    print('i like red too')\n",
    "else:\n",
    "    print('i dont lik the color')"
   ]
  },
  {
   "cell_type": "code",
   "execution_count": 27,
   "metadata": {},
   "outputs": [
    {
     "name": "stdout",
     "output_type": "stream",
     "text": [
      "enter the favourite color:  white\n",
      "i dont lik the color\n"
     ]
    }
   ],
   "source": [
    "s=input('enter the favourite color:  ')\n",
    "if (s==\"RED\" or s==\"Red\" or s=='red'):\n",
    "    print('i like red too')\n",
    "else:\n",
    "    print('i dont lik the color')"
   ]
  },
  {
   "cell_type": "code",
   "execution_count": 1,
   "metadata": {},
   "outputs": [
    {
     "name": "stdout",
     "output_type": "stream",
     "text": [
      "enter the age: 22\n",
      "u cn vote\n"
     ]
    }
   ],
   "source": [
    "#17\n",
    "age=int(input('enter the age: '))\n",
    "if age>=18:\n",
    "    print('u cn vote')\n",
    "elif age==17:\n",
    "    print('u cn learn drive')\n",
    "elif age==16:\n",
    "    print('u cn buy lottery ticket')\n",
    "elif age<16:\n",
    "    print('u cn go for trick or treating')"
   ]
  },
  {
   "cell_type": "code",
   "execution_count": 3,
   "metadata": {},
   "outputs": [
    {
     "name": "stdout",
     "output_type": "stream",
     "text": [
      "is it raining: YES\n",
      "is it windy: NO\n",
      "tke an umberella\n"
     ]
    }
   ],
   "source": [
    "#16\n",
    "raining=input('is it raining: ')\n",
    "raining=str.lower(raining)\n",
    "if raining==\"yes\":\n",
    "    windy=input('is it windy: ')\n",
    "    windy=str.lower(windy)\n",
    "    if windy==\"yes\":\n",
    "        print('tke umberella')\n",
    "    else:\n",
    "        print('tke an umberella')\n",
    "else:\n",
    "    print('enjoy ur day')"
   ]
  },
  {
   "cell_type": "code",
   "execution_count": null,
   "metadata": {},
   "outputs": [],
   "source": []
  }
 ],
 "metadata": {
  "kernelspec": {
   "display_name": "Python 3",
   "language": "python",
   "name": "python3"
  },
  "language_info": {
   "codemirror_mode": {
    "name": "ipython",
    "version": 3
   },
   "file_extension": ".py",
   "mimetype": "text/x-python",
   "name": "python",
   "nbconvert_exporter": "python",
   "pygments_lexer": "ipython3",
   "version": "3.7.6"
  }
 },
 "nbformat": 4,
 "nbformat_minor": 4
}
