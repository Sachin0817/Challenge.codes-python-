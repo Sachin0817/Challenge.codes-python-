{
 "cells": [
  {
   "cell_type": "code",
   "execution_count": 8,
   "metadata": {},
   "outputs": [
    {
     "name": "stdout",
     "output_type": "stream",
     "text": [
      "enter the name: sachin\n",
      "sachin\n",
      "sachin\n",
      "sachin\n"
     ]
    }
   ],
   "source": [
    "#35\n",
    "name=input('enter the name: ')\n",
    "for i in range(1,4):\n",
    "    print(name)"
   ]
  },
  {
   "cell_type": "code",
   "execution_count": 9,
   "metadata": {},
   "outputs": [
    {
     "name": "stdout",
     "output_type": "stream",
     "text": [
      "enter the number: srimukh\n",
      "enter the number: 5\n",
      "srimukh\n",
      "srimukh\n",
      "srimukh\n",
      "srimukh\n",
      "srimukh\n"
     ]
    }
   ],
   "source": [
    "#36 \n",
    "name1=input('enter the number: ')\n",
    "num=int(input('enter the number: '))\n",
    "for i in range(num):\n",
    "    print(name1)"
   ]
  },
  {
   "cell_type": "code",
   "execution_count": 11,
   "metadata": {},
   "outputs": [
    {
     "name": "stdout",
     "output_type": "stream",
     "text": [
      "s\n",
      "r\n",
      "i\n",
      "m\n",
      "u\n",
      "k\n",
      "h\n"
     ]
    }
   ],
   "source": [
    "#37\n",
    "for i in name1:\n",
    "    print(i)"
   ]
  },
  {
   "cell_type": "code",
   "execution_count": 18,
   "metadata": {},
   "outputs": [
    {
     "name": "stdout",
     "output_type": "stream",
     "text": [
      "enter the name: sahin\n",
      "enter the number5\n",
      "s\n",
      "a\n",
      "h\n",
      "i\n",
      "n\n",
      "s\n",
      "a\n",
      "h\n",
      "i\n",
      "n\n",
      "s\n",
      "a\n",
      "h\n",
      "i\n",
      "n\n",
      "s\n",
      "a\n",
      "h\n",
      "i\n",
      "n\n",
      "s\n",
      "a\n",
      "h\n",
      "i\n",
      "n\n"
     ]
    }
   ],
   "source": [
    "#38\n",
    "name3=input('enter the name: ')\n",
    "val=int(input('enter the number'))\n",
    "for x in range(0,val):\n",
    "    for i in name3:\n",
    "        print(i)"
   ]
  },
  {
   "cell_type": "code",
   "execution_count": 19,
   "metadata": {},
   "outputs": [
    {
     "name": "stdout",
     "output_type": "stream",
     "text": [
      "enter the number btw 1 and 12: 5\n",
      "5\n",
      "10\n",
      "15\n",
      "20\n",
      "25\n",
      "30\n",
      "35\n",
      "40\n",
      "45\n",
      "50\n",
      "55\n",
      "60\n"
     ]
    }
   ],
   "source": [
    "#39\n",
    "num1=int(input('enter the number btw 1 and 12: '))\n",
    "for i in range(1,13):\n",
    "    answer=i*num1\n",
    "    print(answer)"
   ]
  },
  {
   "cell_type": "code",
   "execution_count": 20,
   "metadata": {},
   "outputs": [
    {
     "name": "stdout",
     "output_type": "stream",
     "text": [
      "enter the number below 50: 22\n",
      "50\n",
      "49\n",
      "48\n",
      "47\n",
      "46\n",
      "45\n",
      "44\n",
      "43\n",
      "42\n",
      "41\n",
      "40\n",
      "39\n",
      "38\n",
      "37\n",
      "36\n",
      "35\n",
      "34\n",
      "33\n",
      "32\n",
      "31\n",
      "30\n",
      "29\n",
      "28\n",
      "27\n",
      "26\n",
      "25\n",
      "24\n",
      "23\n",
      "22\n"
     ]
    }
   ],
   "source": [
    "#40\n",
    "num=int(input('enter the number below 50: '))\n",
    "for i in range(50,num-1,-1):\n",
    "    print(i)"
   ]
  },
  {
   "cell_type": "code",
   "execution_count": 23,
   "metadata": {},
   "outputs": [
    {
     "name": "stdout",
     "output_type": "stream",
     "text": [
      "enter the name: sachin\n",
      "enter the number: 7\n",
      "sachin\n",
      "sachin\n",
      "sachin\n",
      "sachin\n",
      "sachin\n",
      "sachin\n",
      "sachin\n"
     ]
    }
   ],
   "source": [
    "#41\n",
    "name=input('enter the name: ')\n",
    "num=int(input('enter the number: '))\n",
    "if num<10:\n",
    "    for i in range(num):\n",
    "        print(name)\n",
    "else:\n",
    "    for i in range(3):\n",
    "        print('too high')"
   ]
  },
  {
   "cell_type": "code",
   "execution_count": 24,
   "metadata": {},
   "outputs": [
    {
     "name": "stdout",
     "output_type": "stream",
     "text": [
      "enter the numbers: 22\n",
      "do u want the number: yes\n",
      "22\n",
      "enter the numbers: 88\n",
      "do u want the number: yes\n",
      "110\n",
      "enter the numbers: 22\n",
      "do u want the number: yes\n",
      "132\n",
      "enter the numbers: 22\n",
      "do u want the number: yes\n",
      "154\n",
      "enter the numbers: 22\n",
      "do u want the number: yes\n",
      "176\n"
     ]
    }
   ],
   "source": [
    "#42\n",
    "total=0\n",
    "for i in range(0,5):\n",
    "    num=int(input('enter the numbers: '))\n",
    "    ans=input('do u want the number: ')\n",
    "    if ans=='yes':\n",
    "        total+=num\n",
    "        print(total)"
   ]
  },
  {
   "cell_type": "code",
   "execution_count": 25,
   "metadata": {},
   "outputs": [
    {
     "name": "stdout",
     "output_type": "stream",
     "text": [
      "enter the direction up/down: up\n",
      "enter the number: 15\n",
      "1\n",
      "2\n",
      "3\n",
      "4\n",
      "5\n",
      "6\n",
      "7\n",
      "8\n",
      "9\n",
      "10\n",
      "11\n",
      "12\n",
      "13\n",
      "14\n"
     ]
    }
   ],
   "source": [
    "#43\n",
    "direction=input('enter the direction up/down: ')\n",
    "if direction=='up':\n",
    "    num=int(input('enter the number: '))\n",
    "    for i in range(1,num):\n",
    "        print(i)\n",
    "elif direction=='down':\n",
    "    num1=int(input('enter the number: '))\n",
    "    for i in range(20,num1,-1):\n",
    "        print(i)\n",
    "else:\n",
    "    print('i do not understand')"
   ]
  },
  {
   "cell_type": "code",
   "execution_count": 26,
   "metadata": {},
   "outputs": [
    {
     "name": "stdout",
     "output_type": "stream",
     "text": [
      "enter the direction up/down: down\n",
      "enter the number: 9\n",
      "20\n",
      "19\n",
      "18\n",
      "17\n",
      "16\n",
      "15\n",
      "14\n",
      "13\n",
      "12\n",
      "11\n",
      "10\n"
     ]
    }
   ],
   "source": [
    "direction=input('enter the direction up/down: ')\n",
    "if direction=='up':\n",
    "    num=int(input('enter the number: '))\n",
    "    for i in range(1,num):\n",
    "        print(i)\n",
    "elif direction=='down':\n",
    "    num1=int(input('enter the number: '))\n",
    "    for i in range(20,num1,-1):\n",
    "        print(i)\n",
    "else:\n",
    "    print('i do not understand')"
   ]
  },
  {
   "cell_type": "code",
   "execution_count": 27,
   "metadata": {},
   "outputs": [
    {
     "name": "stdout",
     "output_type": "stream",
     "text": [
      "enter the number: 5\n",
      "enter the name:sachin\n",
      "[name] has been invited\n",
      "enter the name:srimukh\n",
      "[name] has been invited\n",
      "enter the name:chappi\n",
      "[name] has been invited\n",
      "enter the name:sri\n",
      "[name] has been invited\n",
      "enter the name:as\n",
      "[name] has been invited\n",
      "enter the name:sa\n",
      "[name] has been invited\n",
      "enter the name:sa\n",
      "[name] has been invited\n",
      "enter the name:sa\n",
      "[name] has been invited\n",
      "enter the name:sa\n",
      "[name] has been invited\n"
     ]
    }
   ],
   "source": [
    "#44\n",
    "ppl=int(input('enter the number: '))\n",
    "if ppl<10:\n",
    "    for i in range(1,10):\n",
    "        name=input('enter the name: ')\n",
    "        print(f'{name} has been invited')\n",
    "else:\n",
    "    print('too many ppl')"
   ]
  },
  {
   "cell_type": "code",
   "execution_count": 28,
   "metadata": {},
   "outputs": [
    {
     "name": "stdout",
     "output_type": "stream",
     "text": [
      "enter the number: 12\n",
      "too many ppl\n"
     ]
    }
   ],
   "source": [
    "ppl=int(input('enter the number: '))\n",
    "if ppl<10:\n",
    "    for i in range(1,10):\n",
    "        name=input('enter the name: ')\n",
    "        print(f'{name} has been invited')\n",
    "else:\n",
    "    print('too many ppl')"
   ]
  },
  {
   "cell_type": "code",
   "execution_count": 29,
   "metadata": {},
   "outputs": [
    {
     "name": "stdout",
     "output_type": "stream",
     "text": [
      "1\n",
      "3\n",
      "6\n",
      "10\n"
     ]
    }
   ],
   "source": [
    "sum=0\n",
    "for i in (1,2,3,4):\n",
    "    sum+=i\n",
    "    print(sum)"
   ]
  },
  {
   "cell_type": "code",
   "execution_count": null,
   "metadata": {},
   "outputs": [],
   "source": []
  }
 ],
 "metadata": {
  "kernelspec": {
   "display_name": "Python 3",
   "language": "python",
   "name": "python3"
  },
  "language_info": {
   "codemirror_mode": {
    "name": "ipython",
    "version": 3
   },
   "file_extension": ".py",
   "mimetype": "text/x-python",
   "name": "python",
   "nbconvert_exporter": "python",
   "pygments_lexer": "ipython3",
   "version": "3.7.6"
  }
 },
 "nbformat": 4,
 "nbformat_minor": 4
}
