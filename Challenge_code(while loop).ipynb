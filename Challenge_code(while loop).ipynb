{
 "cells": [
  {
   "cell_type": "code",
   "execution_count": 1,
   "metadata": {},
   "outputs": [
    {
     "name": "stdout",
     "output_type": "stream",
     "text": [
      "enter the number: 20\n",
      "the total is: 20\n",
      "enter the number: 20\n",
      "the total is: 40\n",
      "enter the number: 25\n",
      "the total is: 65\n"
     ]
    }
   ],
   "source": [
    "#45\n",
    "total=0\n",
    "while total<50:\n",
    "    num=int(input('enter the number: '))\n",
    "    total+=num\n",
    "    print('the total is:',total)"
   ]
  },
  {
   "cell_type": "code",
   "execution_count": 2,
   "metadata": {},
   "outputs": [
    {
     "name": "stdout",
     "output_type": "stream",
     "text": [
      "enter the number: 4\n",
      "the last number you:  4\n",
      "enter the number: 6\n",
      "the last number you:  6\n"
     ]
    }
   ],
   "source": [
    "#46\n",
    "num=0\n",
    "while num<6:\n",
    "    num=int(input('enter the number: '))\n",
    "    print('the last number you: ',num)"
   ]
  },
  {
   "cell_type": "code",
   "execution_count": 3,
   "metadata": {},
   "outputs": [
    {
     "name": "stdout",
     "output_type": "stream",
     "text": [
      "enter the number: 5\n",
      "enter the number: 5\n",
      "enter the another number: 5\n",
      "wanna add another number: y\n",
      "15\n",
      "enter the another number: 8\n",
      "wanna add another number: n\n",
      "23\n"
     ]
    }
   ],
   "source": [
    "#47\n",
    "total=0\n",
    "a=int(input('enter the number: '))\n",
    "b=int(input('enter the number: '))\n",
    "total=a+b\n",
    "var='y'\n",
    "while var=='y':\n",
    "    c=int(input('enter the another number: '))\n",
    "    total+=c\n",
    "    var=input('wanna add another number: ')\n",
    "    print(total)"
   ]
  },
  {
   "cell_type": "code",
   "execution_count": 4,
   "metadata": {},
   "outputs": [
    {
     "name": "stdout",
     "output_type": "stream",
     "text": [
      "enter the name of the person: sachin\n",
      "do wanna invite sme more ppl: y\n",
      "1\n",
      "enter the name of the person: sri\n",
      "do wanna invite sme more ppl: y\n",
      "2\n",
      "enter the name of the person: chappi\n",
      "do wanna invite sme more ppl: n\n",
      "3\n"
     ]
    }
   ],
   "source": [
    "#48\n",
    "count=0\n",
    "char='y'\n",
    "while char=='y':\n",
    "    name=input('enter the name of the person: ')\n",
    "    count+=1\n",
    "    char=input('do wanna invite sme more ppl: ')\n",
    "    print(count)"
   ]
  },
  {
   "cell_type": "code",
   "execution_count": 5,
   "metadata": {},
   "outputs": [
    {
     "name": "stdout",
     "output_type": "stream",
     "text": [
      "enter the number: 25\n",
      "too low\n",
      "have another guess: 26\n",
      "too low\n",
      "have another guess: 51\n",
      "too high\n",
      "have another guess: 55\n",
      "too high\n",
      "have another guess: 80\n",
      "too high\n",
      "have another guess: 50\n",
      "well done number of attempt: 6\n"
     ]
    }
   ],
   "source": [
    "#49\n",
    "compnum=50\n",
    "guess=int(input('enter the number: '))\n",
    "count=1\n",
    "while guess!=compnum:\n",
    "    if guess<compnum:\n",
    "        print('too low')\n",
    "    else:\n",
    "        print('too high')\n",
    "    count+=1\n",
    "    guess=int(input('have another guess: '))\n",
    "print('well done number of attempt:', count)    "
   ]
  },
  {
   "cell_type": "code",
   "execution_count": 6,
   "metadata": {},
   "outputs": [
    {
     "name": "stdout",
     "output_type": "stream",
     "text": [
      "enter the number btw 10 and 20: 12\n",
      "enter the number once again: 20\n",
      "thank you\n"
     ]
    }
   ],
   "source": [
    "#50\n",
    "num=int(input('enter the number btw 10 and 20: '))\n",
    "while (num>10 and num<20):\n",
    "    if num<10:\n",
    "        print('too low')\n",
    "    elif num>20:\n",
    "        print('too high')\n",
    "    num=int(input('enter the number once again: '))\n",
    "print('thank you')\n",
    "    "
   ]
  },
  {
   "cell_type": "code",
   "execution_count": 7,
   "metadata": {},
   "outputs": [
    {
     "name": "stdout",
     "output_type": "stream",
     "text": [
      "enter the number btw 10 and 20: 8\n",
      "thank you\n"
     ]
    }
   ],
   "source": [
    "num=int(input('enter the number btw 10 and 20: '))\n",
    "while (num>10 and num<20):\n",
    "    if num<10:\n",
    "        print('too low')\n",
    "    elif num>20:\n",
    "        print('too high')\n",
    "    num=int(input('enter the number once again: '))\n",
    "print('thank you')"
   ]
  },
  {
   "cell_type": "code",
   "execution_count": 8,
   "metadata": {},
   "outputs": [
    {
     "name": "stdout",
     "output_type": "stream",
     "text": [
      "enter the number btw 10 and 20: 8\n",
      "too low\n",
      "enter the number once again: 23\n",
      "too high\n",
      "enter the number once again: 15\n",
      "thank you\n"
     ]
    }
   ],
   "source": [
    "num=int(input('enter the number btw 10 and 20: '))\n",
    "while (num<10 or num>20):\n",
    "    if num<10:\n",
    "        print('too low')\n",
    "    else:\n",
    "        print('too high')\n",
    "    num=int(input('enter the number once again: '))\n",
    "print('thank you')"
   ]
  },
  {
   "cell_type": "code",
   "execution_count": null,
   "metadata": {},
   "outputs": [],
   "source": []
  }
 ],
 "metadata": {
  "kernelspec": {
   "display_name": "Python 3",
   "language": "python",
   "name": "python3"
  },
  "language_info": {
   "codemirror_mode": {
    "name": "ipython",
    "version": 3
   },
   "file_extension": ".py",
   "mimetype": "text/x-python",
   "name": "python",
   "nbconvert_exporter": "python",
   "pygments_lexer": "ipython3",
   "version": "3.7.6"
  }
 },
 "nbformat": 4,
 "nbformat_minor": 4
}
