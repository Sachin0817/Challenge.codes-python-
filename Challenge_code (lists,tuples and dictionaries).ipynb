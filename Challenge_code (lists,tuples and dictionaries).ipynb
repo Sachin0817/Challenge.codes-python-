{
 "cells": [
  {
   "cell_type": "code",
   "execution_count": 2,
   "metadata": {},
   "outputs": [
    {
     "name": "stdout",
     "output_type": "stream",
     "text": [
      "enter the country in the tuples: usa\n"
     ]
    },
    {
     "data": {
      "text/plain": [
       "2"
      ]
     },
     "execution_count": 2,
     "metadata": {},
     "output_type": "execute_result"
    }
   ],
   "source": [
    "#69\n",
    "country_tuples=('india','srilanka','usa','uk','nepal')\n",
    "country=input('enter the country in the tuples: ')\n",
    "country_tuples.index(country)"
   ]
  },
  {
   "cell_type": "code",
   "execution_count": 3,
   "metadata": {},
   "outputs": [
    {
     "name": "stdout",
     "output_type": "stream",
     "text": [
      "enter the index number in the tuples: 3\n"
     ]
    },
    {
     "data": {
      "text/plain": [
       "'uk'"
      ]
     },
     "execution_count": 3,
     "metadata": {},
     "output_type": "execute_result"
    }
   ],
   "source": [
    "#70\n",
    "country_tuples=('india','srilanka','usa','uk','nepal')\n",
    "number=int(input('enter the index number in the tuples: '))\n",
    "country_tuples[number]"
   ]
  },
  {
   "cell_type": "code",
   "execution_count": 4,
   "metadata": {},
   "outputs": [
    {
     "name": "stdout",
     "output_type": "stream",
     "text": [
      "enter ur favourite sport: volley ball\n",
      "['cricket', 'tennis', 'volley ball']\n"
     ]
    }
   ],
   "source": [
    "#71\n",
    "sport_list=['tennis','cricket']\n",
    "sport_list.append(input('enter ur favourite sport: '))\n",
    "print(sorted(sport_list))"
   ]
  },
  {
   "cell_type": "code",
   "execution_count": 7,
   "metadata": {},
   "outputs": [
    {
     "name": "stdout",
     "output_type": "stream",
     "text": [
      "enter the subject u dont like: maths\n"
     ]
    }
   ],
   "source": [
    "#72\n",
    "sub_list=['kannada','english','maths','social','science','hindi']\n",
    "sub=input('enter the subject u dont like: ')\n",
    "index=sub_list.index(sub)\n",
    "del sub_list[index]"
   ]
  },
  {
   "cell_type": "code",
   "execution_count": 8,
   "metadata": {},
   "outputs": [
    {
     "data": {
      "text/plain": [
       "['kannada', 'english', 'social', 'science', 'hindi']"
      ]
     },
     "execution_count": 8,
     "metadata": {},
     "output_type": "execute_result"
    }
   ],
   "source": [
    "sub_list"
   ]
  },
  {
   "cell_type": "code",
   "execution_count": 14,
   "metadata": {},
   "outputs": [
    {
     "name": "stdout",
     "output_type": "stream",
     "text": [
      "enter the food: dosa\n",
      "enter the food: chapati\n",
      "enter the food: idly\n",
      "enter the food: puri\n",
      "which food u wanna remove: 3\n",
      "['chapati', 'dosa', 'puri']\n"
     ]
    }
   ],
   "source": [
    "#73\n",
    "food_dic={}\n",
    "food1=input('enter the food: ')\n",
    "food_dic[1]=food1\n",
    "food2=input('enter the food: ')\n",
    "food_dic[2]=food2\n",
    "food3=input('enter the food: ')\n",
    "food_dic[3]=food3\n",
    "food4=input('enter the food: ')\n",
    "food_dic[4]=food4\n",
    "getride=int(input('which food u wanna remove: '))\n",
    "del food_dic[getride]\n",
    "print(sorted(food_dic.values()))"
   ]
  },
  {
   "cell_type": "code",
   "execution_count": 15,
   "metadata": {},
   "outputs": [
    {
     "name": "stdout",
     "output_type": "stream",
     "text": [
      "['green', 'white', 'yellow', 'black', 'orange', 'purple', 'maroon']\n"
     ]
    }
   ],
   "source": [
    "#74\n",
    "color=['red','blue','green','white','yellow','black','orange','purple','maroon','violet']\n",
    "print(color[2:9])"
   ]
  },
  {
   "cell_type": "code",
   "execution_count": 35,
   "metadata": {},
   "outputs": [
    {
     "name": "stdout",
     "output_type": "stream",
     "text": [
      "123\n",
      "456\n",
      "789\n",
      "852\n",
      "enter the number: 456\n",
      "1\n"
     ]
    }
   ],
   "source": [
    "#75\n",
    "number=[123,456,789,852]\n",
    "for i in number:\n",
    "    print(i)\n",
    "check=int(input('enter the number: '))\n",
    "if check in number:\n",
    "    print(number.index(check))\n",
    "else:\n",
    "    print('is not in list')"
   ]
  },
  {
   "cell_type": "code",
   "execution_count": 41,
   "metadata": {},
   "outputs": [
    {
     "name": "stdout",
     "output_type": "stream",
     "text": [
      "enter the name: sachin\n",
      "enter the name: sri\n",
      "enter the name: chappi\n",
      "do wanna invite few more ppl: y\n",
      "enter a name: mukh\n",
      "do wanna invite few more ppl: y\n",
      "enter a name: chappi\n",
      "do wanna invite few more ppl: y\n",
      "enter a name: shobha\n",
      "do wanna invite few more ppl: n\n",
      "6 were invited to party\n"
     ]
    }
   ],
   "source": [
    "#76\n",
    "name1=input('enter the name: ')\n",
    "name2=input('enter the name: ')\n",
    "name3=input('enter the name: ')\n",
    "names=[name1,name2,name3]\n",
    "count=3\n",
    "correct=True\n",
    "while correct==True:\n",
    "    ask=input('do wanna invite few more ppl: ')\n",
    "    if ask=='y':\n",
    "        extra=input('enter a name: ')\n",
    "        names.append(extra)\n",
    "        count+=1\n",
    "    else:\n",
    "        print(count,'were invited to party')\n",
    "        correct=False"
   ]
  },
  {
   "cell_type": "code",
   "execution_count": 1,
   "metadata": {},
   "outputs": [
    {
     "name": "stdout",
     "output_type": "stream",
     "text": [
      "enter the name: sachin\n",
      "enter the name: srimukh\n",
      "enter the name: chappi\n",
      "do wanna invite few more ppl: y\n",
      "enter a name: vinay\n",
      "do wanna invite few more ppl: y\n",
      "enter a name: vivek\n",
      "do wanna invite few more ppl: y\n",
      "enter a name: munna\n",
      "do wanna invite few more ppl: n\n",
      "6 were invited to party\n",
      "enter the name for list: munna\n",
      "munna is in position 5 on the list\n",
      "do want tht personn\n",
      "['sachin', 'srimukh', 'chappi', 'vinay', 'vivek']\n"
     ]
    }
   ],
   "source": [
    "#77\n",
    "name1=input('enter the name: ')\n",
    "name2=input('enter the name: ')\n",
    "name3=input('enter the name: ')\n",
    "names=[name1,name2,name3]\n",
    "correct=True\n",
    "while correct==True:\n",
    "    ask=input('do wanna invite few more ppl: ')\n",
    "    if ask=='y':\n",
    "        extra=input('enter a name: ')\n",
    "        names.append(extra)\n",
    "    else:\n",
    "        print(len(names),'were invited to party')\n",
    "        correct=False\n",
    "        select=input('enter the name for list: ')\n",
    "        print(select,'is in position',names.index(select),'on the list')\n",
    "        still=input('do want tht person')\n",
    "        if still=='n':\n",
    "            names.remove(select)\n",
    "        print(names)"
   ]
  },
  {
   "cell_type": "code",
   "execution_count": 1,
   "metadata": {},
   "outputs": [
    {
     "name": "stdout",
     "output_type": "stream",
     "text": [
      "sports\n",
      "music\n",
      "movie\n",
      "serial\n",
      "enter number:2\n",
      "enter the show: tom and jerry\n",
      "['sports', 'music', 'tom and jerry', 'movie', 'serial']\n"
     ]
    }
   ],
   "source": [
    "#78\n",
    "shows=['sports','music','movie','serial']\n",
    "print(shows[0])\n",
    "print(shows[1])\n",
    "print(shows[2])\n",
    "print(shows[3])\n",
    "shows.insert(int(input('enter number:')),input('enter the show: '))\n",
    "print(shows)\n",
    "\n",
    "\n"
   ]
  },
  {
   "cell_type": "code",
   "execution_count": null,
   "metadata": {},
   "outputs": [],
   "source": []
  }
 ],
 "metadata": {
  "kernelspec": {
   "display_name": "Python 3",
   "language": "python",
   "name": "python3"
  },
  "language_info": {
   "codemirror_mode": {
    "name": "ipython",
    "version": 3
   },
   "file_extension": ".py",
   "mimetype": "text/x-python",
   "name": "python",
   "nbconvert_exporter": "python",
   "pygments_lexer": "ipython3",
   "version": "3.7.6"
  }
 },
 "nbformat": 4,
 "nbformat_minor": 4
}
