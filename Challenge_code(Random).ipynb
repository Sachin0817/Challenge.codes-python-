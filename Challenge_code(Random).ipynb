{
 "cells": [
  {
   "cell_type": "code",
   "execution_count": 1,
   "metadata": {},
   "outputs": [],
   "source": [
    "import random"
   ]
  },
  {
   "cell_type": "code",
   "execution_count": 2,
   "metadata": {},
   "outputs": [],
   "source": [
    "num=random.random()"
   ]
  },
  {
   "cell_type": "code",
   "execution_count": 3,
   "metadata": {},
   "outputs": [
    {
     "data": {
      "text/plain": [
       "0.41745527347009914"
      ]
     },
     "execution_count": 3,
     "metadata": {},
     "output_type": "execute_result"
    }
   ],
   "source": [
    "num"
   ]
  },
  {
   "cell_type": "code",
   "execution_count": 4,
   "metadata": {},
   "outputs": [
    {
     "data": {
      "text/plain": [
       "0.41745527347009914"
      ]
     },
     "execution_count": 4,
     "metadata": {},
     "output_type": "execute_result"
    }
   ],
   "source": [
    "num"
   ]
  },
  {
   "cell_type": "code",
   "execution_count": 5,
   "metadata": {},
   "outputs": [],
   "source": [
    "num=num*100"
   ]
  },
  {
   "cell_type": "code",
   "execution_count": 6,
   "metadata": {},
   "outputs": [
    {
     "data": {
      "text/plain": [
       "41.74552734700991"
      ]
     },
     "execution_count": 6,
     "metadata": {},
     "output_type": "execute_result"
    }
   ],
   "source": [
    "num"
   ]
  },
  {
   "cell_type": "code",
   "execution_count": 7,
   "metadata": {},
   "outputs": [],
   "source": [
    "num=random.randint(0,9)"
   ]
  },
  {
   "cell_type": "code",
   "execution_count": 8,
   "metadata": {},
   "outputs": [
    {
     "data": {
      "text/plain": [
       "5"
      ]
     },
     "execution_count": 8,
     "metadata": {},
     "output_type": "execute_result"
    }
   ],
   "source": [
    "num"
   ]
  },
  {
   "cell_type": "code",
   "execution_count": 9,
   "metadata": {},
   "outputs": [],
   "source": [
    "num=random.randrange(0,100)"
   ]
  },
  {
   "cell_type": "code",
   "execution_count": 10,
   "metadata": {},
   "outputs": [
    {
     "data": {
      "text/plain": [
       "70"
      ]
     },
     "execution_count": 10,
     "metadata": {},
     "output_type": "execute_result"
    }
   ],
   "source": [
    "num"
   ]
  },
  {
   "cell_type": "code",
   "execution_count": 11,
   "metadata": {},
   "outputs": [],
   "source": [
    "num=random.randrange(0,100,5)"
   ]
  },
  {
   "cell_type": "code",
   "execution_count": 12,
   "metadata": {},
   "outputs": [
    {
     "data": {
      "text/plain": [
       "45"
      ]
     },
     "execution_count": 12,
     "metadata": {},
     "output_type": "execute_result"
    }
   ],
   "source": [
    "num"
   ]
  },
  {
   "cell_type": "code",
   "execution_count": 13,
   "metadata": {},
   "outputs": [],
   "source": [
    "#52\n",
    "number=random.randrange(1,100)"
   ]
  },
  {
   "cell_type": "code",
   "execution_count": 14,
   "metadata": {},
   "outputs": [
    {
     "data": {
      "text/plain": [
       "57"
      ]
     },
     "execution_count": 14,
     "metadata": {},
     "output_type": "execute_result"
    }
   ],
   "source": [
    "number"
   ]
  },
  {
   "cell_type": "code",
   "execution_count": 15,
   "metadata": {},
   "outputs": [
    {
     "name": "stdout",
     "output_type": "stream",
     "text": [
      "grapes\n"
     ]
    }
   ],
   "source": [
    "#53\n",
    "fruit=random.choice(['apple','grapes','banana','orange','waterlemon'])\n",
    "print(fruit)"
   ]
  },
  {
   "cell_type": "code",
   "execution_count": 16,
   "metadata": {},
   "outputs": [
    {
     "name": "stdout",
     "output_type": "stream",
     "text": [
      "enter the your choice: heads\n",
      "bad luck\n",
      "tails\n"
     ]
    }
   ],
   "source": [
    "#54\n",
    "head_tail=random.choice(['heads','tails'])\n",
    "val=input('enter the your choice: ')\n",
    "if head_tail==val:\n",
    "    print('you win')\n",
    "else:\n",
    "    print('bad luck')\n",
    "print(head_tail)"
   ]
  },
  {
   "cell_type": "code",
   "execution_count": 1,
   "metadata": {},
   "outputs": [
    {
     "name": "stdout",
     "output_type": "stream",
     "text": [
      "enter the number: 1\n",
      "too low\n",
      "enter the number: 2\n",
      "u lose\n"
     ]
    }
   ],
   "source": [
    "##55\n",
    "import random\n",
    "num=random.randint(1,5)\n",
    "guess=int(input('enter the number: '))\n",
    "if num==guess:\n",
    "    print('well done')\n",
    "elif guess>num:\n",
    "    print('too high')\n",
    "    guess=int(input('enter the number: '))\n",
    "    if guess==num:\n",
    "        print('correct')\n",
    "    else:\n",
    "        print('u lose')\n",
    "elif guess<num:\n",
    "    print('too low')\n",
    "    guess=int(input('enter the number: '))\n",
    "    if guess==num:\n",
    "        print('correct')\n",
    "    else:\n",
    "        print('u lose')\n",
    "        "
   ]
  },
  {
   "cell_type": "code",
   "execution_count": 4,
   "metadata": {},
   "outputs": [
    {
     "name": "stdout",
     "output_type": "stream",
     "text": [
      "enter the number: 5\n",
      "enter the number: 8\n",
      "enter the number: 9\n",
      "enter the number: 5\n",
      "enter the number: 1\n",
      "enter the number: 2\n",
      "enter the number: 3\n",
      "enter the number: 4\n",
      "enter the number: 5\n",
      "enter the number: 6\n"
     ]
    }
   ],
   "source": [
    "#56\n",
    "number=random.randint(1,10)\n",
    "correct=False \n",
    "while correct==False:\n",
    "    guess=int(input('enter the number: '))\n",
    "    if guess==number:\n",
    "        correct=True"
   ]
  },
  {
   "cell_type": "code",
   "execution_count": 2,
   "metadata": {},
   "outputs": [
    {
     "name": "stdout",
     "output_type": "stream",
     "text": [
      "enter the number: 1\n",
      "too low\n",
      "enter the number: 2\n"
     ]
    }
   ],
   "source": [
    "#57\n",
    "import random\n",
    "number=random.randint(1,10)\n",
    "correct=False \n",
    "while correct==False:\n",
    "    guess=int(input('enter the number: '))\n",
    "    if guess==number:\n",
    "        correct=True\n",
    "    elif guess>number:\n",
    "        print('too high')\n",
    "    else:\n",
    "        print('too low')"
   ]
  },
  {
   "cell_type": "code",
   "execution_count": 7,
   "metadata": {},
   "outputs": [
    {
     "name": "stdout",
     "output_type": "stream",
     "text": [
      "15 + 26 =\n",
      "enter ur answer: 31\n",
      "\n",
      "0\n",
      "17 + 45 =\n",
      "enter ur answer: 62\n",
      "\n",
      "1\n",
      "6 + 44 =\n",
      "enter ur answer: 50\n",
      "\n",
      "2\n",
      "48 + 45 =\n",
      "enter ur answer: 93\n",
      "\n",
      "3\n",
      "24 + 9 =\n",
      "enter ur answer: 33\n",
      "\n",
      "4\n"
     ]
    }
   ],
   "source": [
    "#58\n",
    "import random\n",
    "score=0\n",
    "for i in range(1,6):\n",
    "    num1=random.randint(1,50)\n",
    "    num2=random.randint(1,50)\n",
    "    correct=num1+num2\n",
    "    print(num1,'+',num2,'=')\n",
    "    answer=int(input('enter ur answer: '))\n",
    "    print()\n",
    "    if answer==correct:\n",
    "        score+=1\n",
    "    print(score)"
   ]
  },
  {
   "cell_type": "code",
   "execution_count": 10,
   "metadata": {},
   "outputs": [
    {
     "name": "stdout",
     "output_type": "stream",
     "text": [
      "select any color\n",
      "enter ur color: red\n",
      "well done\n"
     ]
    }
   ],
   "source": [
    "#59\n",
    "color=random.choice(['red','blue','green','yellow','black'])\n",
    "print('select any color')\n",
    "tryagain=True\n",
    "while tryagain==True:\n",
    "    choice=input('enter ur color: ')\n",
    "    choice=choice.lower()\n",
    "    if color==choice:\n",
    "        print('well done')\n",
    "        tryagain=False\n",
    "    else:\n",
    "        if color=='red':\n",
    "            print('i bet you are seeing red rite now')\n",
    "        elif color=='blue':\n",
    "            print('i bet you are seeing red rite now')\n",
    "        elif color=='green':\n",
    "            print('i bet you are seeing red rite now')\n",
    "        elif color=='yellow':\n",
    "            print('i bet you are seeing red rite now')\n",
    "        elif color=='black':\n",
    "            print('i bet you are seeing red rite now')"
   ]
  },
  {
   "cell_type": "code",
   "execution_count": null,
   "metadata": {},
   "outputs": [],
   "source": []
  }
 ],
 "metadata": {
  "kernelspec": {
   "display_name": "Python 3",
   "language": "python",
   "name": "python3"
  },
  "language_info": {
   "codemirror_mode": {
    "name": "ipython",
    "version": 3
   },
   "file_extension": ".py",
   "mimetype": "text/x-python",
   "name": "python",
   "nbconvert_exporter": "python",
   "pygments_lexer": "ipython3",
   "version": "3.7.6"
  }
 },
 "nbformat": 4,
 "nbformat_minor": 4
}
